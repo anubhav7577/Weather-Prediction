{
 "cells": [
  {
   "cell_type": "markdown",
   "metadata": {},
   "source": [
    "## Weather-Prediction\n",
    "\n",
    "Predicting rain or weather is a common problem in machine learning. Different machine learning algorithms can be used to model and predict rainfall. In this assignment, we are asked to complete the analysis to predict whether there will be rain tomorrow or not. In particular, we are required to apply the tools of machine learning to visualize and predict the possibility of rainfall in Australia. \n",
    "\n",
    "We must make use of various Machine Learning Algorithms like **Decision Trees, Logistic Regression, Gradient Boosted Machines and Random Forest** to predict whether it will rain tomorrow or not. We shall make use of the various **functions and libraries** within pyspark itself."
   ]
  },
  {
   "cell_type": "markdown",
   "metadata": {},
   "source": [
    "# Step 1 - Import Spark Session and Initialize Spark\n",
    "\n",
    "Let's begin with loading all the necessary modules in the system.\n",
    "\n",
    "- **SparkContext** and **SparkConf** from **pyspark** to create a **Spark Instance**\n",
    "\n",
    "- **SparkSession** from **pyspark.sql** to work with the **SparkSession**\n",
    "\n",
    "- **IntegerType and DoubleType** from **pyspark.sql.types** to convert datatypes\n",
    "\n",
    "- **mean, stddev, col and when** from **pyspark.sql.functions** for stats\n",
    "\n",
    "- **mode** from **statistics** to calculate the mode\n",
    "\n",
    "- **StringIndexer and VectorAssembler** from **pyspark.ml.feature** to perform one-hot encoding and making a feature vector\n",
    "\n",
    "- **LogisticRegression, DecisionTreeClassifier, RandomForestClassifier and GBTClassifier** from **pyspark.ml.classification** for Machine Learning Classifiers\n",
    "\n",
    "- **Pipeline** from **pyspark.ml** to sequence tasks one in an orderly way\n",
    "\n",
    "- **MulticlassClassificationEvaluator** from **pyspark.ml.evaluation** to evaluate Machine Learning model's performance\n",
    "\n",
    "- **MulticlassMetrics** from **pyspark.mllib.evaluation** to get the prediction performance of the model\n",
    "\n",
    "- **MLUtils** from **pyspark.mllib.util** to support MulticlassMetrics\n",
    "\n",
    "- **seaborn** for good visuaizations"
   ]
  },
  {
   "cell_type": "code",
   "execution_count": 1,
   "metadata": {},
   "outputs": [],
   "source": [
    "import findspark\n",
    "findspark.init()"
   ]
  },
  {
   "cell_type": "code",
   "execution_count": 2,
   "metadata": {},
   "outputs": [],
   "source": [
    "# loading relevant libraries\n",
    "\n",
    "from pyspark import SparkContext, SparkConf\n",
    "from pyspark.sql import SparkSession\n",
    "from pyspark.sql.types import IntegerType, DoubleType\n",
    "from pyspark.sql.functions import mean as _mean, stddev as _stddev, col, when\n",
    "from statistics import mode as _mode\n",
    "from pyspark.ml.feature import StringIndexer, VectorAssembler\n",
    "from pyspark.ml.classification import LogisticRegression, DecisionTreeClassifier, RandomForestClassifier, GBTClassifier\n",
    "from pyspark.ml import Pipeline\n",
    "from pyspark.ml.evaluation import MulticlassClassificationEvaluator\n",
    "from pyspark.mllib.evaluation import MulticlassMetrics\n",
    "from pyspark.mllib.util import MLUtils\n",
    "import seaborn as sns"
   ]
  },
  {
   "cell_type": "markdown",
   "metadata": {},
   "source": [
    "We are going to be creating a **Spark session** which will the configuration of our Spark **environment** and a **Spark Context** which will store this config.\n",
    "\n",
    "We shall now check if the `spark_context` has been created or not. If not, we will initialize the Spark session with our previously defined `spark_context` variable. We will be using only 4 cores for this assignment."
   ]
  },
  {
   "cell_type": "code",
   "execution_count": 3,
   "metadata": {},
   "outputs": [],
   "source": [
    "spark_context = SparkContext.getOrCreate()\n",
    "\n",
    "# If there is no existing spark context, we now create a new context\n",
    "\n",
    "if (spark_context is None):\n",
    "    spark_context = SparkContext(master = \"local[4]\", appName = \"Assignment 2\")\n",
    "spark = SparkSession(sparkContext = spark_context)"
   ]
  },
  {
   "cell_type": "markdown",
   "metadata": {},
   "source": [
    "# Step 2 - Load the Dataset and Print the Schema and Total Number of Entries"
   ]
  },
  {
   "cell_type": "markdown",
   "metadata": {},
   "source": [
    "Making use of the `spark.read.csv` function, we read in the weather data file. Let's store it in `rain_pred`."
   ]
  },
  {
   "cell_type": "code",
   "execution_count": 4,
   "metadata": {},
   "outputs": [],
   "source": [
    "rain_pred = spark.read.csv('weatherAUS.csv', inferSchema = True, header = True)"
   ]
  },
  {
   "cell_type": "markdown",
   "metadata": {},
   "source": [
    "Let's display the first 10 rows of the dataset to get an idea about the data."
   ]
  },
  {
   "cell_type": "code",
   "execution_count": 5,
   "metadata": {},
   "outputs": [
    {
     "name": "stdout",
     "output_type": "stream",
     "text": [
      "+----------+--------+-------+-------+--------+-----------+--------+-----------+-------------+----------+----------+------------+------------+-----------+-----------+-----------+-----------+--------+--------+-------+-------+---------+------------+\n",
      "|      Date|Location|MinTemp|MaxTemp|Rainfall|Evaporation|Sunshine|WindGustDir|WindGustSpeed|WindDir9am|WindDir3pm|WindSpeed9am|WindSpeed3pm|Humidity9am|Humidity3pm|Pressure9am|Pressure3pm|Cloud9am|Cloud3pm|Temp9am|Temp3pm|RainToday|RainTomorrow|\n",
      "+----------+--------+-------+-------+--------+-----------+--------+-----------+-------------+----------+----------+------------+------------+-----------+-----------+-----------+-----------+--------+--------+-------+-------+---------+------------+\n",
      "|2008-12-01|  Albury|   13.4|   22.9|     0.6|         NA|      NA|          W|           44|         W|       WNW|          20|          24|         71|         22|     1007.7|     1007.1|       8|      NA|   16.9|   21.8|       No|          No|\n",
      "|2008-12-02|  Albury|    7.4|   25.1|       0|         NA|      NA|        WNW|           44|       NNW|       WSW|           4|          22|         44|         25|     1010.6|     1007.8|      NA|      NA|   17.2|   24.3|       No|          No|\n",
      "|2008-12-03|  Albury|   12.9|   25.7|       0|         NA|      NA|        WSW|           46|         W|       WSW|          19|          26|         38|         30|     1007.6|     1008.7|      NA|       2|     21|   23.2|       No|          No|\n",
      "|2008-12-04|  Albury|    9.2|     28|       0|         NA|      NA|         NE|           24|        SE|         E|          11|           9|         45|         16|     1017.6|     1012.8|      NA|      NA|   18.1|   26.5|       No|          No|\n",
      "|2008-12-05|  Albury|   17.5|   32.3|       1|         NA|      NA|          W|           41|       ENE|        NW|           7|          20|         82|         33|     1010.8|       1006|       7|       8|   17.8|   29.7|       No|          No|\n",
      "|2008-12-06|  Albury|   14.6|   29.7|     0.2|         NA|      NA|        WNW|           56|         W|         W|          19|          24|         55|         23|     1009.2|     1005.4|      NA|      NA|   20.6|   28.9|       No|          No|\n",
      "|2008-12-07|  Albury|   14.3|     25|       0|         NA|      NA|          W|           50|        SW|         W|          20|          24|         49|         19|     1009.6|     1008.2|       1|      NA|   18.1|   24.6|       No|          No|\n",
      "|2008-12-08|  Albury|    7.7|   26.7|       0|         NA|      NA|          W|           35|       SSE|         W|           6|          17|         48|         19|     1013.4|     1010.1|      NA|      NA|   16.3|   25.5|       No|          No|\n",
      "|2008-12-09|  Albury|    9.7|   31.9|       0|         NA|      NA|        NNW|           80|        SE|        NW|           7|          28|         42|          9|     1008.9|     1003.6|      NA|      NA|   18.3|   30.2|       No|         Yes|\n",
      "|2008-12-10|  Albury|   13.1|   30.1|     1.4|         NA|      NA|          W|           28|         S|       SSE|          15|          11|         58|         27|       1007|     1005.7|      NA|      NA|   20.1|   28.2|      Yes|          No|\n",
      "+----------+--------+-------+-------+--------+-----------+--------+-----------+-------------+----------+----------+------------+------------+-----------+-----------+-----------+-----------+--------+--------+-------+-------+---------+------------+\n",
      "only showing top 10 rows\n",
      "\n"
     ]
    }
   ],
   "source": [
    "rain_pred.show(10)"
   ]
  },
  {
   "cell_type": "markdown",
   "metadata": {},
   "source": [
    "Hmm. Some of the columns contains a lot of NA's that must either be fixed or removed from our dataset. Printing the number of lines in the dataset, we get."
   ]
  },
  {
   "cell_type": "code",
   "execution_count": 6,
   "metadata": {},
   "outputs": [
    {
     "name": "stdout",
     "output_type": "stream",
     "text": [
      "Total number of lines in the Weather Australia is : 142193\n"
     ]
    }
   ],
   "source": [
    "print('Total number of lines in the Weather Australia is : ' + str(rain_pred.count()))"
   ]
  },
  {
   "cell_type": "markdown",
   "metadata": {},
   "source": [
    "# Step 3 - Delete Columns from the Dataset  "
   ]
  },
  {
   "cell_type": "markdown",
   "metadata": {},
   "source": [
    "Sometimes, when there are many **NA values in a column**, the best option, keeping that we have a prediction task at hand, is to remove them. Keeping that particular column will only **negatively affect our prediction** and has to go. Therefore, as instructed in the specification, we are dropping the following columns :\n",
    "\n",
    "- Date\n",
    "- Location\n",
    "- Evaporation\n",
    "- Sunshine\n",
    "- Cloud9am\n",
    "- Cloud3pm\n",
    "- Temp9am\n",
    "- Temp3pm"
   ]
  },
  {
   "cell_type": "code",
   "execution_count": 7,
   "metadata": {},
   "outputs": [],
   "source": [
    "rain_pred = rain_pred.drop('Date', 'Location', 'Evaporation', 'Sunshine', 'Cloud9am', 'Cloud3pm', 'Temp9am', 'Temp3pm')"
   ]
  },
  {
   "cell_type": "markdown",
   "metadata": {},
   "source": [
    "Let's inspect to see if they are really gone or not."
   ]
  },
  {
   "cell_type": "code",
   "execution_count": 8,
   "metadata": {},
   "outputs": [
    {
     "name": "stdout",
     "output_type": "stream",
     "text": [
      "+-------+-------+--------+-----------+-------------+----------+----------+------------+------------+-----------+-----------+-----------+-----------+---------+------------+\n",
      "|MinTemp|MaxTemp|Rainfall|WindGustDir|WindGustSpeed|WindDir9am|WindDir3pm|WindSpeed9am|WindSpeed3pm|Humidity9am|Humidity3pm|Pressure9am|Pressure3pm|RainToday|RainTomorrow|\n",
      "+-------+-------+--------+-----------+-------------+----------+----------+------------+------------+-----------+-----------+-----------+-----------+---------+------------+\n",
      "|   13.4|   22.9|     0.6|          W|           44|         W|       WNW|          20|          24|         71|         22|     1007.7|     1007.1|       No|          No|\n",
      "|    7.4|   25.1|       0|        WNW|           44|       NNW|       WSW|           4|          22|         44|         25|     1010.6|     1007.8|       No|          No|\n",
      "|   12.9|   25.7|       0|        WSW|           46|         W|       WSW|          19|          26|         38|         30|     1007.6|     1008.7|       No|          No|\n",
      "|    9.2|     28|       0|         NE|           24|        SE|         E|          11|           9|         45|         16|     1017.6|     1012.8|       No|          No|\n",
      "|   17.5|   32.3|       1|          W|           41|       ENE|        NW|           7|          20|         82|         33|     1010.8|       1006|       No|          No|\n",
      "|   14.6|   29.7|     0.2|        WNW|           56|         W|         W|          19|          24|         55|         23|     1009.2|     1005.4|       No|          No|\n",
      "|   14.3|     25|       0|          W|           50|        SW|         W|          20|          24|         49|         19|     1009.6|     1008.2|       No|          No|\n",
      "|    7.7|   26.7|       0|          W|           35|       SSE|         W|           6|          17|         48|         19|     1013.4|     1010.1|       No|          No|\n",
      "|    9.7|   31.9|       0|        NNW|           80|        SE|        NW|           7|          28|         42|          9|     1008.9|     1003.6|       No|         Yes|\n",
      "|   13.1|   30.1|     1.4|          W|           28|         S|       SSE|          15|          11|         58|         27|       1007|     1005.7|      Yes|          No|\n",
      "|   13.4|   30.4|       0|          N|           30|       SSE|       ESE|          17|           6|         48|         22|     1011.8|     1008.7|       No|         Yes|\n",
      "|   15.9|   21.7|     2.2|        NNE|           31|        NE|       ENE|          15|          13|         89|         91|     1010.5|     1004.2|      Yes|         Yes|\n",
      "|   15.9|   18.6|    15.6|          W|           61|       NNW|       NNW|          28|          28|         76|         93|      994.3|        993|      Yes|         Yes|\n",
      "|   12.6|     21|     3.6|         SW|           44|         W|       SSW|          24|          20|         65|         43|     1001.2|     1001.8|      Yes|          No|\n",
      "|    9.8|   27.7|      NA|        WNW|           50|        NA|       WNW|          NA|          22|         50|         28|     1013.4|     1010.3|       NA|          No|\n",
      "|   14.1|   20.9|       0|        ENE|           22|       SSW|         E|          11|           9|         69|         82|     1012.2|     1010.4|       No|         Yes|\n",
      "|   13.5|   22.9|    16.8|          W|           63|         N|       WNW|           6|          20|         80|         65|     1005.8|     1002.2|      Yes|         Yes|\n",
      "|   11.2|   22.5|    10.6|        SSE|           43|       WSW|        SW|          24|          17|         47|         32|     1009.4|     1009.7|      Yes|          No|\n",
      "|    9.8|   25.6|       0|        SSE|           26|        SE|       NNW|          17|           6|         45|         26|     1019.2|     1017.1|       No|          No|\n",
      "|   11.5|   29.3|       0|          S|           24|        SE|        SE|           9|           9|         56|         28|     1019.3|     1014.8|       No|          No|\n",
      "+-------+-------+--------+-----------+-------------+----------+----------+------------+------------+-----------+-----------+-----------+-----------+---------+------------+\n",
      "only showing top 20 rows\n",
      "\n"
     ]
    }
   ],
   "source": [
    "rain_pred.show(20)"
   ]
  },
  {
   "cell_type": "code",
   "execution_count": 9,
   "metadata": {},
   "outputs": [
    {
     "data": {
      "text/plain": [
       "['MinTemp',\n",
       " 'MaxTemp',\n",
       " 'Rainfall',\n",
       " 'WindGustDir',\n",
       " 'WindGustSpeed',\n",
       " 'WindDir9am',\n",
       " 'WindDir3pm',\n",
       " 'WindSpeed9am',\n",
       " 'WindSpeed3pm',\n",
       " 'Humidity9am',\n",
       " 'Humidity3pm',\n",
       " 'Pressure9am',\n",
       " 'Pressure3pm',\n",
       " 'RainToday',\n",
       " 'RainTomorrow']"
      ]
     },
     "execution_count": 9,
     "metadata": {},
     "output_type": "execute_result"
    }
   ],
   "source": [
    "rain_pred.columns"
   ]
  },
  {
   "cell_type": "markdown",
   "metadata": {},
   "source": [
    "Great! We have only retained the columns that will be useful to us for making predictions."
   ]
  },
  {
   "cell_type": "markdown",
   "metadata": {},
   "source": [
    "# Step 4 - Print the Number of Missing Data in each Column\n",
    "\n",
    "In this task, we must display the number of **null values in each column**. As this is something that we will be using on multiple ocassions in our assignment, it only makes sense to make a function, we will call it `missing`."
   ]
  },
  {
   "cell_type": "code",
   "execution_count": 10,
   "metadata": {},
   "outputs": [],
   "source": [
    "def missing():\n",
    "    \n",
    "    for columns in rain_pred.columns:\n",
    "        print(columns + ' has number of NULLs : ' + str(rain_pred[rain_pred[columns] == 'NA'].count()))"
   ]
  },
  {
   "cell_type": "code",
   "execution_count": 11,
   "metadata": {},
   "outputs": [
    {
     "name": "stdout",
     "output_type": "stream",
     "text": [
      "MinTemp has number of NULLs : 637\n",
      "MaxTemp has number of NULLs : 322\n",
      "Rainfall has number of NULLs : 1406\n",
      "WindGustDir has number of NULLs : 9330\n",
      "WindGustSpeed has number of NULLs : 9270\n",
      "WindDir9am has number of NULLs : 10013\n",
      "WindDir3pm has number of NULLs : 3778\n",
      "WindSpeed9am has number of NULLs : 1348\n",
      "WindSpeed3pm has number of NULLs : 2630\n",
      "Humidity9am has number of NULLs : 1774\n",
      "Humidity3pm has number of NULLs : 3610\n",
      "Pressure9am has number of NULLs : 14014\n",
      "Pressure3pm has number of NULLs : 13981\n",
      "RainToday has number of NULLs : 1406\n",
      "RainTomorrow has number of NULLs : 0\n"
     ]
    }
   ],
   "source": [
    "missing()"
   ]
  },
  {
   "cell_type": "markdown",
   "metadata": {},
   "source": [
    "Look at that! We have the count of all the Null values in our dataset. We can now think about how we want to fix them."
   ]
  },
  {
   "cell_type": "markdown",
   "metadata": {},
   "source": [
    "# Step 5 - Fill the Missing Data with Average Value and Maximum Occurrence  Value\n",
    "\n",
    "Here, we are asked to fill the missing values in our dataset. It's simple, if it's a **numerical column**, then we simply replace it with the **average of that column**. If it's a **categorical column**, we replace it by the **maximum frequency value**.\n",
    "\n",
    "For this task, let's run a loop over all the columns in our dataset to see their datatypes."
   ]
  },
  {
   "cell_type": "code",
   "execution_count": 12,
   "metadata": {},
   "outputs": [
    {
     "name": "stdout",
     "output_type": "stream",
     "text": [
      "The datatype of MinTemp <class 'str'>\n",
      "The datatype of MaxTemp <class 'str'>\n",
      "The datatype of Rainfall <class 'str'>\n",
      "The datatype of WindGustDir <class 'str'>\n",
      "The datatype of WindGustSpeed <class 'str'>\n",
      "The datatype of WindDir9am <class 'str'>\n",
      "The datatype of WindDir3pm <class 'str'>\n",
      "The datatype of WindSpeed9am <class 'str'>\n",
      "The datatype of WindSpeed3pm <class 'str'>\n",
      "The datatype of Humidity9am <class 'str'>\n",
      "The datatype of Humidity3pm <class 'str'>\n",
      "The datatype of Pressure9am <class 'str'>\n",
      "The datatype of Pressure3pm <class 'str'>\n",
      "The datatype of RainToday <class 'str'>\n",
      "The datatype of RainTomorrow <class 'str'>\n"
     ]
    }
   ],
   "source": [
    "for columns in rain_pred.columns:\n",
    "    \n",
    "    print('The datatype of ' + str(columns) + ' ' + str(type(columns)))"
   ]
  },
  {
   "cell_type": "markdown",
   "metadata": {},
   "source": [
    "Everything is string! Not very helpful, is it? Let's try and calculate the **average** of each column anyway. If it turns out to be a number then we know that column is **numeric**, otherwise it's **categorical**."
   ]
  },
  {
   "cell_type": "code",
   "execution_count": 13,
   "metadata": {},
   "outputs": [
    {
     "name": "stdout",
     "output_type": "stream",
     "text": [
      "[Row(avg(MinTemp)=12.186399728729294)]\n",
      "[Row(avg(MaxTemp)=23.226784191272504)]\n",
      "[Row(avg(Rainfall)=2.3499740743107256)]\n",
      "[Row(avg(WindGustDir)=None)]\n",
      "[Row(avg(WindGustSpeed)=39.98429165757619)]\n",
      "[Row(avg(WindDir9am)=None)]\n",
      "[Row(avg(WindDir3pm)=None)]\n",
      "[Row(avg(WindSpeed9am)=14.001988000994)]\n",
      "[Row(avg(WindSpeed3pm)=18.63757586179718)]\n",
      "[Row(avg(Humidity9am)=68.8438103105705)]\n",
      "[Row(avg(Humidity3pm)=51.482606091656265)]\n",
      "[Row(avg(Pressure9am)=1017.6537584159605)]\n",
      "[Row(avg(Pressure3pm)=1015.2582035378871)]\n",
      "[Row(avg(RainToday)=None)]\n",
      "[Row(avg(RainTomorrow)=None)]\n"
     ]
    }
   ],
   "source": [
    "for columns in rain_pred.columns:\n",
    "    print(rain_pred.select(_mean(col(columns))).collect())"
   ]
  },
  {
   "cell_type": "markdown",
   "metadata": {},
   "source": [
    "There you go! We have the following columns as **numeric** : \n",
    "\n",
    "- MinTemp\n",
    "- MaxTemp\n",
    "- Rainfall\n",
    "- WindGustSpeed\n",
    "- WindSpeed9am\n",
    "- WindSpeed3pm\n",
    "- Humidity9am\n",
    "- Humidity3pm\n",
    "- Pressure9am\n",
    "- Pressure3pm\n",
    "\n",
    "And the rest are **categorical**, namely :\n",
    "\n",
    "- WindGustDir\n",
    "- WindDir9am\n",
    "- WindDir3pm\n",
    "- RainToday\n",
    "- RainTomorrow\n",
    "\n",
    "We will have to have different strategies for these two types. Let's get right into it."
   ]
  },
  {
   "cell_type": "markdown",
   "metadata": {},
   "source": [
    "## For Numerical Columns\n",
    "\n",
    "We're gonna first find the average of that column and then use that to replace it with the NA's in that column. We shall be making use of the `.describe()`, `.collect()`, `.select()`, `.withColumn()`, `when()` and `otherwise()` methods, in a chained format for replacement."
   ]
  },
  {
   "cell_type": "code",
   "execution_count": 14,
   "metadata": {},
   "outputs": [],
   "source": [
    "MinTemp_mean = rain_pred.select('MinTemp').describe().collect()[1][1]\n",
    "rain_pred = rain_pred.withColumn('MinTemp', when(rain_pred['MinTemp'] == 'NA', MinTemp_mean).\n",
    "                                                                     otherwise(rain_pred['MinTemp']))"
   ]
  },
  {
   "cell_type": "code",
   "execution_count": 15,
   "metadata": {},
   "outputs": [],
   "source": [
    "MaxTemp_mean = rain_pred.select('MaxTemp').describe().collect()[1][1]\n",
    "rain_pred = rain_pred.withColumn('MaxTemp', when(rain_pred['MaxTemp'] == 'NA', MaxTemp_mean).\n",
    "                                                                     otherwise(rain_pred['MaxTemp']))"
   ]
  },
  {
   "cell_type": "code",
   "execution_count": 16,
   "metadata": {},
   "outputs": [],
   "source": [
    "Rainfall_mean = rain_pred.select('Rainfall').describe().collect()[1][1]\n",
    "rain_pred = rain_pred.withColumn('Rainfall', when(rain_pred['Rainfall'] == 'NA', Rainfall_mean).\n",
    "                                                                     otherwise(rain_pred['Rainfall']))"
   ]
  },
  {
   "cell_type": "code",
   "execution_count": 17,
   "metadata": {},
   "outputs": [],
   "source": [
    "WindGustSpeed_mean = rain_pred.select('WindGustSpeed').describe().collect()[1][1]\n",
    "rain_pred = rain_pred.withColumn('WindGustSpeed', when(rain_pred['WindGustSpeed'] == 'NA', WindGustSpeed_mean).\n",
    "                                                                     otherwise(rain_pred['WindGustSpeed']))"
   ]
  },
  {
   "cell_type": "code",
   "execution_count": 18,
   "metadata": {},
   "outputs": [],
   "source": [
    "WindSpeed9am_mean = rain_pred.select('WindSpeed9am').describe().collect()[1][1]\n",
    "rain_pred = rain_pred.withColumn('WindSpeed9am', when(rain_pred['WindSpeed9am'] == 'NA', WindSpeed9am_mean).\n",
    "                                                                     otherwise(rain_pred['WindSpeed9am']))"
   ]
  },
  {
   "cell_type": "code",
   "execution_count": 19,
   "metadata": {},
   "outputs": [],
   "source": [
    "WindSpeed3pm_mean = rain_pred.select('WindSpeed3pm').describe().collect()[1][1]\n",
    "rain_pred = rain_pred.withColumn('WindSpeed3pm', when(rain_pred['WindSpeed3pm'] == 'NA', WindSpeed3pm_mean).\n",
    "                                                                     otherwise(rain_pred['WindSpeed3pm']))"
   ]
  },
  {
   "cell_type": "code",
   "execution_count": 20,
   "metadata": {},
   "outputs": [],
   "source": [
    "Humidity9am_mean = rain_pred.select('Humidity9am').describe().collect()[1][1]\n",
    "rain_pred = rain_pred.withColumn('Humidity9am', when(rain_pred['Humidity9am'] == 'NA', Humidity9am_mean).\n",
    "                                                                     otherwise(rain_pred['Humidity9am']))"
   ]
  },
  {
   "cell_type": "code",
   "execution_count": 21,
   "metadata": {},
   "outputs": [],
   "source": [
    "Humidity3pm_mean = rain_pred.select('Humidity3pm').describe().collect()[1][1]\n",
    "rain_pred = rain_pred.withColumn('Humidity3pm', when(rain_pred['Humidity3pm'] == 'NA', Humidity3pm_mean).\n",
    "                                                                     otherwise(rain_pred['Humidity3pm']))"
   ]
  },
  {
   "cell_type": "code",
   "execution_count": 22,
   "metadata": {},
   "outputs": [],
   "source": [
    "Pressure9am_mean = rain_pred.select('Pressure9am').describe().collect()[1][1]\n",
    "rain_pred = rain_pred.withColumn('Pressure9am', when(rain_pred['Pressure9am'] == 'NA', Pressure9am_mean).\n",
    "                                                                     otherwise(rain_pred['Pressure9am']))"
   ]
  },
  {
   "cell_type": "code",
   "execution_count": 23,
   "metadata": {},
   "outputs": [],
   "source": [
    "Pressure3pm_mean = rain_pred.select('Pressure3pm').describe().collect()[1][1]\n",
    "rain_pred = rain_pred.withColumn('Pressure3pm', when(rain_pred['Pressure3pm'] == 'NA', Pressure3pm_mean).\n",
    "                                                                     otherwise(rain_pred['Pressure3pm']))"
   ]
  },
  {
   "cell_type": "markdown",
   "metadata": {},
   "source": [
    "Phew! That was a lot of code! Let's check if it even worked or not. We will call the `missing()` again, which we made earlier. Isn't is good to have such a function in handy, instead of writing the code again and again?"
   ]
  },
  {
   "cell_type": "code",
   "execution_count": 24,
   "metadata": {},
   "outputs": [
    {
     "name": "stdout",
     "output_type": "stream",
     "text": [
      "MinTemp has number of NULLs : 0\n",
      "MaxTemp has number of NULLs : 0\n",
      "Rainfall has number of NULLs : 0\n",
      "WindGustDir has number of NULLs : 9330\n",
      "WindGustSpeed has number of NULLs : 0\n",
      "WindDir9am has number of NULLs : 10013\n",
      "WindDir3pm has number of NULLs : 3778\n",
      "WindSpeed9am has number of NULLs : 0\n",
      "WindSpeed3pm has number of NULLs : 0\n",
      "Humidity9am has number of NULLs : 0\n",
      "Humidity3pm has number of NULLs : 0\n",
      "Pressure9am has number of NULLs : 0\n",
      "Pressure3pm has number of NULLs : 0\n",
      "RainToday has number of NULLs : 1406\n",
      "RainTomorrow has number of NULLs : 0\n"
     ]
    }
   ],
   "source": [
    "missing()"
   ]
  },
  {
   "cell_type": "markdown",
   "metadata": {},
   "source": [
    "Amazing! **No Null values** in the **numerical columns**! Moving on to the **categorical columns**."
   ]
  },
  {
   "cell_type": "markdown",
   "metadata": {},
   "source": [
    "## For Categorical Columns\n",
    "\n",
    "Things will be a bit different here, we shall make use of the `.groupBy()`, `.count()`, `orderBy()` and `.sort()` methods on our dataset to firstly see, and then change their values in the dataset."
   ]
  },
  {
   "cell_type": "code",
   "execution_count": 25,
   "metadata": {},
   "outputs": [
    {
     "name": "stdout",
     "output_type": "stream",
     "text": [
      "+-----------+-----+\n",
      "|WindGustDir|count|\n",
      "+-----------+-----+\n",
      "|          W| 9780|\n",
      "|         NA| 9330|\n",
      "|         SE| 9309|\n",
      "|          E| 9071|\n",
      "|          N| 9033|\n",
      "|        SSE| 8993|\n",
      "|          S| 8949|\n",
      "|        WSW| 8901|\n",
      "|         SW| 8797|\n",
      "|        SSW| 8610|\n",
      "|        WNW| 8066|\n",
      "|         NW| 8003|\n",
      "|        ENE| 7992|\n",
      "|        ESE| 7305|\n",
      "|         NE| 7060|\n",
      "|        NNW| 6561|\n",
      "|        NNE| 6433|\n",
      "+-----------+-----+\n",
      "\n"
     ]
    }
   ],
   "source": [
    "rain_pred.groupBy('WindGustDir').count().orderBy('WindGustDir').sort('count', ascending = False).show()"
   ]
  },
  {
   "cell_type": "code",
   "execution_count": 26,
   "metadata": {},
   "outputs": [
    {
     "name": "stdout",
     "output_type": "stream",
     "text": [
      "+----------+-----+\n",
      "|WindDir9am|count|\n",
      "+----------+-----+\n",
      "|         N|11393|\n",
      "|        NA|10013|\n",
      "|        SE| 9162|\n",
      "|         E| 9024|\n",
      "|       SSE| 8966|\n",
      "|        NW| 8552|\n",
      "|         S| 8493|\n",
      "|         W| 8260|\n",
      "|        SW| 8237|\n",
      "|       NNE| 7948|\n",
      "|       NNW| 7840|\n",
      "|       ENE| 7735|\n",
      "|       ESE| 7558|\n",
      "|        NE| 7527|\n",
      "|       SSW| 7448|\n",
      "|       WNW| 7194|\n",
      "|       WSW| 6843|\n",
      "+----------+-----+\n",
      "\n"
     ]
    }
   ],
   "source": [
    "rain_pred.groupBy('WindDir9am').count().orderBy('WindDir9am').sort('count', ascending = False).show()"
   ]
  },
  {
   "cell_type": "code",
   "execution_count": 27,
   "metadata": {},
   "outputs": [
    {
     "name": "stdout",
     "output_type": "stream",
     "text": [
      "+----------+-----+\n",
      "|WindDir3pm|count|\n",
      "+----------+-----+\n",
      "|        SE|10663|\n",
      "|         W| 9911|\n",
      "|         S| 9598|\n",
      "|       WSW| 9329|\n",
      "|        SW| 9182|\n",
      "|       SSE| 9142|\n",
      "|         N| 8667|\n",
      "|       WNW| 8656|\n",
      "|        NW| 8468|\n",
      "|       ESE| 8382|\n",
      "|         E| 8342|\n",
      "|        NE| 8164|\n",
      "|       SSW| 8010|\n",
      "|       NNW| 7733|\n",
      "|       ENE| 7724|\n",
      "|       NNE| 6444|\n",
      "|        NA| 3778|\n",
      "+----------+-----+\n",
      "\n"
     ]
    }
   ],
   "source": [
    "rain_pred.groupBy('WindDir3pm').count().orderBy('WindDir3pm').sort('count', ascending = False).show()"
   ]
  },
  {
   "cell_type": "code",
   "execution_count": 28,
   "metadata": {},
   "outputs": [
    {
     "name": "stdout",
     "output_type": "stream",
     "text": [
      "+---------+------+\n",
      "|RainToday| count|\n",
      "+---------+------+\n",
      "|       No|109332|\n",
      "|      Yes| 31455|\n",
      "|       NA|  1406|\n",
      "+---------+------+\n",
      "\n"
     ]
    }
   ],
   "source": [
    "rain_pred.groupBy('RainToday').count().orderBy('RainToday').sort('count', ascending = False).show()"
   ]
  },
  {
   "cell_type": "markdown",
   "metadata": {},
   "source": [
    "Things will be a bit different here, we shall make use of the `.groupBy()`, `.count()`, `orderBy()` and `.sort()` methods on our dataset to firstly see, and then change their values in the dataset.\n",
    "\n",
    "Let's store the top value in a variable and print it out to see if it's actually the correct value."
   ]
  },
  {
   "cell_type": "code",
   "execution_count": 29,
   "metadata": {},
   "outputs": [
    {
     "data": {
      "text/plain": [
       "'W'"
      ]
     },
     "execution_count": 29,
     "metadata": {},
     "output_type": "execute_result"
    }
   ],
   "source": [
    "WindGustDir_mode = rain_pred.groupBy('WindGustDir').count().orderBy('WindGustDir').sort('count', ascending = False).collect()[0][0]\n",
    "WindGustDir_mode"
   ]
  },
  {
   "cell_type": "code",
   "execution_count": 30,
   "metadata": {},
   "outputs": [
    {
     "data": {
      "text/plain": [
       "'N'"
      ]
     },
     "execution_count": 30,
     "metadata": {},
     "output_type": "execute_result"
    }
   ],
   "source": [
    "WindDir9am_mode = rain_pred.groupBy('WindDir9am').count().orderBy('WindDir9am').sort('count', ascending = False).collect()[0][0]\n",
    "WindDir9am_mode"
   ]
  },
  {
   "cell_type": "code",
   "execution_count": 31,
   "metadata": {},
   "outputs": [
    {
     "data": {
      "text/plain": [
       "'SE'"
      ]
     },
     "execution_count": 31,
     "metadata": {},
     "output_type": "execute_result"
    }
   ],
   "source": [
    "WindDir3pm_mode = rain_pred.groupBy('WindDir3pm').count().orderBy('WindDir3pm').sort('count', ascending = False).collect()[0][0]\n",
    "WindDir3pm_mode"
   ]
  },
  {
   "cell_type": "code",
   "execution_count": 32,
   "metadata": {},
   "outputs": [
    {
     "data": {
      "text/plain": [
       "'No'"
      ]
     },
     "execution_count": 32,
     "metadata": {},
     "output_type": "execute_result"
    }
   ],
   "source": [
    "RainToday_mode = rain_pred.groupBy('RainToday').count().orderBy('RainToday').sort('count', ascending = False).collect()[0][0]\n",
    "RainToday_mode"
   ]
  },
  {
   "cell_type": "markdown",
   "metadata": {},
   "source": [
    "All of them work! Now let's use a similar syntaxt to replace the actual null values in the dataset."
   ]
  },
  {
   "cell_type": "code",
   "execution_count": 33,
   "metadata": {},
   "outputs": [],
   "source": [
    "rain_pred = rain_pred.withColumn('WindGustDir', when(rain_pred['WindGustDir'] == 'NA', WindGustDir_mode).\n",
    "                                                                     otherwise(rain_pred['WindGustDir']))"
   ]
  },
  {
   "cell_type": "code",
   "execution_count": 34,
   "metadata": {},
   "outputs": [],
   "source": [
    "rain_pred = rain_pred.withColumn('WindDir9am', when(rain_pred['WindDir9am'] == 'NA', WindDir9am_mode).\n",
    "                                                                     otherwise(rain_pred['WindDir9am']))"
   ]
  },
  {
   "cell_type": "code",
   "execution_count": 35,
   "metadata": {},
   "outputs": [],
   "source": [
    "rain_pred = rain_pred.withColumn('WindDir3pm', when(rain_pred['WindDir3pm'] == 'NA', WindDir3pm_mode).\n",
    "                                                                     otherwise(rain_pred['WindDir3pm']))"
   ]
  },
  {
   "cell_type": "code",
   "execution_count": 36,
   "metadata": {},
   "outputs": [],
   "source": [
    "rain_pred = rain_pred.withColumn('RainToday', when(rain_pred['RainToday'] == 'NA', RainToday_mode).\n",
    "                                                                     otherwise(rain_pred['RainToday']))"
   ]
  },
  {
   "cell_type": "markdown",
   "metadata": {},
   "source": [
    "Once again, let's call our great friend, the `missing()` to get the number of nulls in the dataset. Remember that all the numerical columns were without nulls in the starting of this part."
   ]
  },
  {
   "cell_type": "code",
   "execution_count": 37,
   "metadata": {},
   "outputs": [
    {
     "name": "stdout",
     "output_type": "stream",
     "text": [
      "MinTemp has number of NULLs : 0\n",
      "MaxTemp has number of NULLs : 0\n",
      "Rainfall has number of NULLs : 0\n",
      "WindGustDir has number of NULLs : 0\n",
      "WindGustSpeed has number of NULLs : 0\n",
      "WindDir9am has number of NULLs : 0\n",
      "WindDir3pm has number of NULLs : 0\n",
      "WindSpeed9am has number of NULLs : 0\n",
      "WindSpeed3pm has number of NULLs : 0\n",
      "Humidity9am has number of NULLs : 0\n",
      "Humidity3pm has number of NULLs : 0\n",
      "Pressure9am has number of NULLs : 0\n",
      "Pressure3pm has number of NULLs : 0\n",
      "RainToday has number of NULLs : 0\n",
      "RainTomorrow has number of NULLs : 0\n"
     ]
    }
   ],
   "source": [
    "missing()"
   ]
  },
  {
   "cell_type": "markdown",
   "metadata": {},
   "source": [
    "Fantastic! All nulls are gone! We can now move on to some basic datatype transformations which we can directly feed into the Machine Learning algorithms and watch the magic."
   ]
  },
  {
   "cell_type": "markdown",
   "metadata": {},
   "source": [
    "# Step 6 - Data Transformation\n",
    "\n",
    "Machine Learning Algorithms, often except only **numerical columns** as input and would throw an error if supplied with **categorical** variables. Hence, we need to convert the numerical columns from **string** to **double** and convert categorical columns from **string** to **numbers** that the algorithm can directly use to process.\n",
    "\n",
    "First, let's make a list of numerical columns and name it `numerical_list`. Looping over the numerical_list, we use `cast(DoubleType())` to convert it from **string** to **double**."
   ]
  },
  {
   "cell_type": "code",
   "execution_count": 38,
   "metadata": {},
   "outputs": [],
   "source": [
    "numerical_list = ['MinTemp', 'MaxTemp', 'Rainfall', 'WindGustSpeed', 'WindSpeed9am', 'WindSpeed3pm', 'Humidity9am',\n",
    "                  'Humidity3pm', 'Pressure9am', 'Pressure3pm']"
   ]
  },
  {
   "cell_type": "code",
   "execution_count": 39,
   "metadata": {},
   "outputs": [],
   "source": [
    "for columns in numerical_list:\n",
    "    rain_pred = rain_pred.withColumn(columns, rain_pred[columns].cast(DoubleType()))"
   ]
  },
  {
   "cell_type": "markdown",
   "metadata": {},
   "source": [
    "Let's inspect if it changed or not."
   ]
  },
  {
   "cell_type": "code",
   "execution_count": 40,
   "metadata": {},
   "outputs": [
    {
     "name": "stdout",
     "output_type": "stream",
     "text": [
      "root\n",
      " |-- MinTemp: double (nullable = true)\n",
      " |-- MaxTemp: double (nullable = true)\n",
      " |-- Rainfall: double (nullable = true)\n",
      " |-- WindGustDir: string (nullable = true)\n",
      " |-- WindGustSpeed: double (nullable = true)\n",
      " |-- WindDir9am: string (nullable = true)\n",
      " |-- WindDir3pm: string (nullable = true)\n",
      " |-- WindSpeed9am: double (nullable = true)\n",
      " |-- WindSpeed3pm: double (nullable = true)\n",
      " |-- Humidity9am: double (nullable = true)\n",
      " |-- Humidity3pm: double (nullable = true)\n",
      " |-- Pressure9am: double (nullable = true)\n",
      " |-- Pressure3pm: double (nullable = true)\n",
      " |-- RainToday: string (nullable = true)\n",
      " |-- RainTomorrow: string (nullable = true)\n",
      "\n"
     ]
    }
   ],
   "source": [
    "rain_pred.printSchema()"
   ]
  },
  {
   "cell_type": "markdown",
   "metadata": {},
   "source": [
    "Similarly, for categorical columns, we make a list named `categorical_list`, loop over it and use the `StringIndexer()` method, call the `Pipeline()` method on it and finally use the `.fit()` to fit it to the dataset."
   ]
  },
  {
   "cell_type": "code",
   "execution_count": 41,
   "metadata": {},
   "outputs": [],
   "source": [
    "categorical_list = ['WindGustDir', 'WindDir9am', 'WindDir3pm', 'RainToday', 'RainTomorrow']"
   ]
  },
  {
   "cell_type": "code",
   "execution_count": 42,
   "metadata": {},
   "outputs": [
    {
     "name": "stdout",
     "output_type": "stream",
     "text": [
      "+-------+-------+--------+-----------+-------------+----------+----------+------------+------------+-----------+-----------+-----------+-----------+---------+------------+-----------------+----------------+----------------+---------------+------------------+\n",
      "|MinTemp|MaxTemp|Rainfall|WindGustDir|WindGustSpeed|WindDir9am|WindDir3pm|WindSpeed9am|WindSpeed3pm|Humidity9am|Humidity3pm|Pressure9am|Pressure3pm|RainToday|RainTomorrow|WindGustDir_index|WindDir9am_index|WindDir3pm_index|RainToday_index|RainTomorrow_index|\n",
      "+-------+-------+--------+-----------+-------------+----------+----------+------------+------------+-----------+-----------+-----------+-----------+---------+------------+-----------------+----------------+----------------+---------------+------------------+\n",
      "|   13.4|   22.9|     0.6|          W|         44.0|         W|       WNW|        20.0|        24.0|       71.0|       22.0|     1007.7|     1007.1|       No|          No|              0.0|             6.0|             7.0|            0.0|               0.0|\n",
      "|    7.4|   25.1|     0.0|        WNW|         44.0|       NNW|       WSW|         4.0|        22.0|       44.0|       25.0|     1010.6|     1007.8|       No|          No|              9.0|             9.0|             3.0|            0.0|               0.0|\n",
      "|   12.9|   25.7|     0.0|        WSW|         46.0|         W|       WSW|        19.0|        26.0|       38.0|       30.0|     1007.6|     1008.7|       No|          No|              6.0|             6.0|             3.0|            0.0|               0.0|\n",
      "|    9.2|   28.0|     0.0|         NE|         24.0|        SE|         E|        11.0|         9.0|       45.0|       16.0|     1017.6|     1012.8|       No|          No|             13.0|             1.0|            10.0|            0.0|               0.0|\n",
      "|   17.5|   32.3|     1.0|          W|         41.0|       ENE|        NW|         7.0|        20.0|       82.0|       33.0|     1010.8|     1006.0|       No|          No|              0.0|            10.0|             8.0|            0.0|               0.0|\n",
      "|   14.6|   29.7|     0.2|        WNW|         56.0|         W|         W|        19.0|        24.0|       55.0|       23.0|     1009.2|     1005.4|       No|          No|              9.0|             6.0|             1.0|            0.0|               0.0|\n",
      "|   14.3|   25.0|     0.0|          W|         50.0|        SW|         W|        20.0|        24.0|       49.0|       19.0|     1009.6|     1008.2|       No|          No|              0.0|             7.0|             1.0|            0.0|               0.0|\n",
      "|    7.7|   26.7|     0.0|          W|         35.0|       SSE|         W|         6.0|        17.0|       48.0|       19.0|     1013.4|     1010.1|       No|          No|              0.0|             3.0|             1.0|            0.0|               0.0|\n",
      "|    9.7|   31.9|     0.0|        NNW|         80.0|        SE|        NW|         7.0|        28.0|       42.0|        9.0|     1008.9|     1003.6|       No|         Yes|             14.0|             1.0|             8.0|            0.0|               1.0|\n",
      "|   13.1|   30.1|     1.4|          W|         28.0|         S|       SSE|        15.0|        11.0|       58.0|       27.0|     1007.0|     1005.7|      Yes|          No|              0.0|             5.0|             5.0|            1.0|               0.0|\n",
      "+-------+-------+--------+-----------+-------------+----------+----------+------------+------------+-----------+-----------+-----------+-----------+---------+------------+-----------------+----------------+----------------+---------------+------------------+\n",
      "only showing top 10 rows\n",
      "\n"
     ]
    }
   ],
   "source": [
    "indexers = [StringIndexer(inputCol = column, outputCol = column + \"_index\").fit(rain_pred) for column in categorical_list]\n",
    "\n",
    "\n",
    "pipeline = Pipeline(stages = indexers)\n",
    "rain_pred_indexers = pipeline.fit(rain_pred).transform(rain_pred)\n",
    "\n",
    "rain_pred_indexers.show(10)"
   ]
  },
  {
   "cell_type": "markdown",
   "metadata": {},
   "source": [
    "You see how the categories have been changed to numbers rather than string? But there is one more problem. We have new columns with `_index` suffix along with their old counterparts which contain the **string** categories as well. We have to drop them from our dataset. We can do this using the `.drop()` method."
   ]
  },
  {
   "cell_type": "code",
   "execution_count": 43,
   "metadata": {},
   "outputs": [
    {
     "name": "stdout",
     "output_type": "stream",
     "text": [
      "+-------+-------+--------+-------------+------------+------------+-----------+-----------+-----------+-----------+-----------------+----------------+----------------+---------------+------------------+\n",
      "|MinTemp|MaxTemp|Rainfall|WindGustSpeed|WindSpeed9am|WindSpeed3pm|Humidity9am|Humidity3pm|Pressure9am|Pressure3pm|WindGustDir_index|WindDir9am_index|WindDir3pm_index|RainToday_index|RainTomorrow_index|\n",
      "+-------+-------+--------+-------------+------------+------------+-----------+-----------+-----------+-----------+-----------------+----------------+----------------+---------------+------------------+\n",
      "|   13.4|   22.9|     0.6|         44.0|        20.0|        24.0|       71.0|       22.0|     1007.7|     1007.1|              0.0|             6.0|             7.0|            0.0|               0.0|\n",
      "|    7.4|   25.1|     0.0|         44.0|         4.0|        22.0|       44.0|       25.0|     1010.6|     1007.8|              9.0|             9.0|             3.0|            0.0|               0.0|\n",
      "|   12.9|   25.7|     0.0|         46.0|        19.0|        26.0|       38.0|       30.0|     1007.6|     1008.7|              6.0|             6.0|             3.0|            0.0|               0.0|\n",
      "|    9.2|   28.0|     0.0|         24.0|        11.0|         9.0|       45.0|       16.0|     1017.6|     1012.8|             13.0|             1.0|            10.0|            0.0|               0.0|\n",
      "|   17.5|   32.3|     1.0|         41.0|         7.0|        20.0|       82.0|       33.0|     1010.8|     1006.0|              0.0|            10.0|             8.0|            0.0|               0.0|\n",
      "|   14.6|   29.7|     0.2|         56.0|        19.0|        24.0|       55.0|       23.0|     1009.2|     1005.4|              9.0|             6.0|             1.0|            0.0|               0.0|\n",
      "|   14.3|   25.0|     0.0|         50.0|        20.0|        24.0|       49.0|       19.0|     1009.6|     1008.2|              0.0|             7.0|             1.0|            0.0|               0.0|\n",
      "|    7.7|   26.7|     0.0|         35.0|         6.0|        17.0|       48.0|       19.0|     1013.4|     1010.1|              0.0|             3.0|             1.0|            0.0|               0.0|\n",
      "|    9.7|   31.9|     0.0|         80.0|         7.0|        28.0|       42.0|        9.0|     1008.9|     1003.6|             14.0|             1.0|             8.0|            0.0|               1.0|\n",
      "|   13.1|   30.1|     1.4|         28.0|        15.0|        11.0|       58.0|       27.0|     1007.0|     1005.7|              0.0|             5.0|             5.0|            1.0|               0.0|\n",
      "+-------+-------+--------+-------------+------------+------------+-----------+-----------+-----------+-----------+-----------------+----------------+----------------+---------------+------------------+\n",
      "only showing top 10 rows\n",
      "\n"
     ]
    }
   ],
   "source": [
    "drop = ['WindGustDir', 'WindDir9am', 'WindDir3pm', 'RainToday', 'RainTomorrow']\n",
    "\n",
    "rain_pred_indexers = rain_pred_indexers.drop(*drop)\n",
    "\n",
    "rain_pred_indexers.show(10)"
   ]
  },
  {
   "cell_type": "markdown",
   "metadata": {},
   "source": [
    "Onto the next step!"
   ]
  },
  {
   "cell_type": "markdown",
   "metadata": {},
   "source": [
    "# Step 7 - Create the Feature Vector and Divide the Dataset"
   ]
  },
  {
   "cell_type": "markdown",
   "metadata": {},
   "source": [
    "Here, we are required to use the `VectorAssembler()` to convert the set of features into a **feature vector**. It can be easily done using the following piece of code which has been taken from a StackOverflow code snippet."
   ]
  },
  {
   "cell_type": "code",
   "execution_count": 44,
   "metadata": {},
   "outputs": [],
   "source": [
    "target = ['RainTomorrow_index']\n",
    "\n",
    "assembler = VectorAssembler(\n",
    "    inputCols = [columns for columns in rain_pred_indexers.columns if columns not in target],\n",
    "    outputCol = 'feature_vector')\n",
    "\n",
    "rain_pred_indexers_data = assembler.transform(rain_pred_indexers) # converting the whole row to a vector except\n",
    "                                                                  # the target variable"
   ]
  },
  {
   "cell_type": "code",
   "execution_count": 45,
   "metadata": {},
   "outputs": [
    {
     "name": "stdout",
     "output_type": "stream",
     "text": [
      "+-------+-------+--------+-------------+------------+------------+-----------+-----------+-----------+-----------+-----------------+----------------+----------------+---------------+------------------+--------------------+\n",
      "|MinTemp|MaxTemp|Rainfall|WindGustSpeed|WindSpeed9am|WindSpeed3pm|Humidity9am|Humidity3pm|Pressure9am|Pressure3pm|WindGustDir_index|WindDir9am_index|WindDir3pm_index|RainToday_index|RainTomorrow_index|      feature_vector|\n",
      "+-------+-------+--------+-------------+------------+------------+-----------+-----------+-----------+-----------+-----------------+----------------+----------------+---------------+------------------+--------------------+\n",
      "|   13.4|   22.9|     0.6|         44.0|        20.0|        24.0|       71.0|       22.0|     1007.7|     1007.1|              0.0|             6.0|             7.0|            0.0|               0.0|[13.4,22.9,0.6,44...|\n",
      "|    7.4|   25.1|     0.0|         44.0|         4.0|        22.0|       44.0|       25.0|     1010.6|     1007.8|              9.0|             9.0|             3.0|            0.0|               0.0|[7.4,25.1,0.0,44....|\n",
      "|   12.9|   25.7|     0.0|         46.0|        19.0|        26.0|       38.0|       30.0|     1007.6|     1008.7|              6.0|             6.0|             3.0|            0.0|               0.0|[12.9,25.7,0.0,46...|\n",
      "|    9.2|   28.0|     0.0|         24.0|        11.0|         9.0|       45.0|       16.0|     1017.6|     1012.8|             13.0|             1.0|            10.0|            0.0|               0.0|[9.2,28.0,0.0,24....|\n",
      "|   17.5|   32.3|     1.0|         41.0|         7.0|        20.0|       82.0|       33.0|     1010.8|     1006.0|              0.0|            10.0|             8.0|            0.0|               0.0|[17.5,32.3,1.0,41...|\n",
      "|   14.6|   29.7|     0.2|         56.0|        19.0|        24.0|       55.0|       23.0|     1009.2|     1005.4|              9.0|             6.0|             1.0|            0.0|               0.0|[14.6,29.7,0.2,56...|\n",
      "|   14.3|   25.0|     0.0|         50.0|        20.0|        24.0|       49.0|       19.0|     1009.6|     1008.2|              0.0|             7.0|             1.0|            0.0|               0.0|[14.3,25.0,0.0,50...|\n",
      "|    7.7|   26.7|     0.0|         35.0|         6.0|        17.0|       48.0|       19.0|     1013.4|     1010.1|              0.0|             3.0|             1.0|            0.0|               0.0|[7.7,26.7,0.0,35....|\n",
      "|    9.7|   31.9|     0.0|         80.0|         7.0|        28.0|       42.0|        9.0|     1008.9|     1003.6|             14.0|             1.0|             8.0|            0.0|               1.0|[9.7,31.9,0.0,80....|\n",
      "|   13.1|   30.1|     1.4|         28.0|        15.0|        11.0|       58.0|       27.0|     1007.0|     1005.7|              0.0|             5.0|             5.0|            1.0|               0.0|[13.1,30.1,1.4,28...|\n",
      "+-------+-------+--------+-------------+------------+------------+-----------+-----------+-----------+-----------+-----------------+----------------+----------------+---------------+------------------+--------------------+\n",
      "only showing top 10 rows\n",
      "\n"
     ]
    }
   ],
   "source": [
    "rain_pred_indexers_data.show(10)"
   ]
  },
  {
   "cell_type": "markdown",
   "metadata": {},
   "source": [
    "Notice the feature vector in the middle? Yes, that's the one.\n",
    "\n",
    "Now we have everything we need to train our model and get predictions. Let's split our data into training and test set with 70:30 ratio respectively."
   ]
  },
  {
   "cell_type": "code",
   "execution_count": 46,
   "metadata": {},
   "outputs": [],
   "source": [
    "rain_test, rain_train = rain_pred_indexers_data.randomSplit([0.3, 0.7], seed = 123)"
   ]
  },
  {
   "cell_type": "code",
   "execution_count": 47,
   "metadata": {},
   "outputs": [
    {
     "data": {
      "text/plain": [
       "42910"
      ]
     },
     "execution_count": 47,
     "metadata": {},
     "output_type": "execute_result"
    }
   ],
   "source": [
    "rain_test.count()"
   ]
  },
  {
   "cell_type": "code",
   "execution_count": 48,
   "metadata": {},
   "outputs": [
    {
     "data": {
      "text/plain": [
       "99283"
      ]
     },
     "execution_count": 48,
     "metadata": {},
     "output_type": "execute_result"
    }
   ],
   "source": [
    "rain_train.count()"
   ]
  },
  {
   "cell_type": "markdown",
   "metadata": {},
   "source": [
    "# Step 8 - Apply Machine Learning Classification Algorithms on the Dataset and Compare their Accuracy. Plot the Accuracy as Bar Graph\n",
    "\n",
    "Alas! Were at the most interesting stage of the assignment, building machine learning algorithms!\n",
    "\n",
    "We shall start with Decision Trees. Using the `DecisionTreeClassifier()` and `.fit()` method on our training data."
   ]
  },
  {
   "cell_type": "markdown",
   "metadata": {},
   "source": [
    "# Decision Trees"
   ]
  },
  {
   "cell_type": "code",
   "execution_count": 49,
   "metadata": {},
   "outputs": [],
   "source": [
    "DT_Classifier = DecisionTreeClassifier(labelCol = 'RainTomorrow_index', featuresCol = 'feature_vector')\n",
    "DT_Model = DT_Classifier.fit(rain_train)"
   ]
  },
  {
   "cell_type": "markdown",
   "metadata": {},
   "source": [
    "Calling the `.transform()` on the model."
   ]
  },
  {
   "cell_type": "code",
   "execution_count": 50,
   "metadata": {},
   "outputs": [],
   "source": [
    "DT_Prediction = DT_Model.transform(rain_test)"
   ]
  },
  {
   "cell_type": "markdown",
   "metadata": {},
   "source": [
    "Let's print out the predictions that our model made."
   ]
  },
  {
   "cell_type": "code",
   "execution_count": 51,
   "metadata": {},
   "outputs": [
    {
     "data": {
      "text/plain": [
       "[Row(MinTemp=-4.8, MaxTemp=15.5, Rainfall=0.0, WindGustSpeed=19.0, WindSpeed9am=2.0, WindSpeed3pm=11.0, Humidity9am=99.0, Humidity3pm=45.0, Pressure9am=1021.5, Pressure3pm=1018.7, WindGustDir_index=0.0, WindDir9am_index=12.0, WindDir3pm_index=10.0, RainToday_index=0.0, RainTomorrow_index=0.0, feature_vector=DenseVector([-4.8, 15.5, 0.0, 19.0, 2.0, 11.0, 99.0, 45.0, 1021.5, 1018.7, 0.0, 12.0, 10.0, 0.0]), rawPrediction=DenseVector([39151.0, 2834.0]), probability=DenseVector([0.9325, 0.0675]), prediction=0.0),\n",
       " Row(MinTemp=-3.3, MaxTemp=12.3, Rainfall=0.8, WindGustSpeed=24.0, WindSpeed9am=0.0, WindSpeed3pm=15.0, Humidity9am=76.0, Humidity3pm=51.0, Pressure9am=1030.9, Pressure3pm=1030.1, WindGustDir_index=6.0, WindDir9am_index=0.0, WindDir3pm_index=3.0, RainToday_index=0.0, RainTomorrow_index=0.0, feature_vector=DenseVector([-3.3, 12.3, 0.8, 24.0, 0.0, 15.0, 76.0, 51.0, 1030.9, 1030.1, 6.0, 0.0, 3.0, 0.0]), rawPrediction=DenseVector([20476.0, 3509.0]), probability=DenseVector([0.8537, 0.1463]), prediction=0.0),\n",
       " Row(MinTemp=-2.8, MaxTemp=13.5, Rainfall=0.0, WindGustSpeed=24.0, WindSpeed9am=6.0, WindSpeed3pm=13.0, Humidity9am=94.0, Humidity3pm=56.0, Pressure9am=1035.9, Pressure3pm=1032.6, WindGustDir_index=9.0, WindDir9am_index=11.0, WindDir3pm_index=1.0, RainToday_index=0.0, RainTomorrow_index=0.0, feature_vector=DenseVector([-2.8, 13.5, 0.0, 24.0, 6.0, 13.0, 94.0, 56.0, 1035.9, 1032.6, 9.0, 11.0, 1.0, 0.0]), rawPrediction=DenseVector([20476.0, 3509.0]), probability=DenseVector([0.8537, 0.1463]), prediction=0.0),\n",
       " Row(MinTemp=-2.8, MaxTemp=13.9, Rainfall=0.0, WindGustSpeed=22.0, WindSpeed9am=7.0, WindSpeed3pm=4.0, Humidity9am=78.0, Humidity3pm=46.0, Pressure9am=1035.9, Pressure3pm=1033.7, WindGustDir_index=4.0, WindDir9am_index=10.0, WindDir3pm_index=12.0, RainToday_index=0.0, RainTomorrow_index=0.0, feature_vector=DenseVector([-2.8, 13.9, 0.0, 22.0, 7.0, 4.0, 78.0, 46.0, 1035.9, 1033.7, 4.0, 10.0, 12.0, 0.0]), rawPrediction=DenseVector([39151.0, 2834.0]), probability=DenseVector([0.9325, 0.0675]), prediction=0.0),\n",
       " Row(MinTemp=-2.7, MaxTemp=21.7, Rainfall=0.0, WindGustSpeed=65.0, WindSpeed9am=0.0, WindSpeed3pm=24.0, Humidity9am=84.0, Humidity3pm=20.0, Pressure9am=1007.9, Pressure3pm=998.8, WindGustDir_index=6.0, WindDir9am_index=0.0, WindDir3pm_index=6.0, RainToday_index=0.0, RainTomorrow_index=0.0, feature_vector=DenseVector([-2.7, 21.7, 0.0, 65.0, 0.0, 24.0, 84.0, 20.0, 1007.9, 998.8, 6.0, 0.0, 6.0, 0.0]), rawPrediction=DenseVector([39151.0, 2834.0]), probability=DenseVector([0.9325, 0.0675]), prediction=0.0)]"
      ]
     },
     "execution_count": 51,
     "metadata": {},
     "output_type": "execute_result"
    }
   ],
   "source": [
    "DT_Prediction.head(5)"
   ]
  },
  {
   "cell_type": "markdown",
   "metadata": {},
   "source": [
    "Interesting predictions, let's evaluate the performance of our model using the `MulticlassClassificationEvaluator()` method."
   ]
  },
  {
   "cell_type": "code",
   "execution_count": 52,
   "metadata": {},
   "outputs": [],
   "source": [
    "DT_Evaluator = MulticlassClassificationEvaluator(labelCol =  'RainTomorrow_index', predictionCol = 'prediction')"
   ]
  },
  {
   "cell_type": "code",
   "execution_count": 53,
   "metadata": {},
   "outputs": [],
   "source": [
    "DT_Accuracy = DT_Evaluator.evaluate(DT_Prediction)"
   ]
  },
  {
   "cell_type": "code",
   "execution_count": 54,
   "metadata": {},
   "outputs": [
    {
     "name": "stdout",
     "output_type": "stream",
     "text": [
      "Decision Tree Accuracy is : 81.24086094904622\n",
      "Test Error is : 0.18759139050953777\n"
     ]
    }
   ],
   "source": [
    "print('Decision Tree Accuracy is : ' + str(DT_Accuracy * 100))\n",
    "print('Test Error is : ' + str(1 - DT_Accuracy))"
   ]
  },
  {
   "cell_type": "markdown",
   "metadata": {},
   "source": [
    "Not a bad prediction and error rate for a start! Next we have Random Forest."
   ]
  },
  {
   "cell_type": "markdown",
   "metadata": {},
   "source": [
    "# Random Forest\n",
    "\n",
    "We shall now build Random Forest. Using the `RandomForestClassifier()` and `.fit()` method on our training data."
   ]
  },
  {
   "cell_type": "code",
   "execution_count": 55,
   "metadata": {},
   "outputs": [],
   "source": [
    "RF_Classifier = RandomForestClassifier(labelCol = 'RainTomorrow_index', featuresCol = 'feature_vector',  maxDepth = 5,\n",
    "    maxBins = 32, numTrees = 500)\n",
    "\n",
    "RF_Model = RF_Classifier.fit(rain_train)"
   ]
  },
  {
   "cell_type": "markdown",
   "metadata": {},
   "source": [
    "Calling the `.transform()` on the model."
   ]
  },
  {
   "cell_type": "code",
   "execution_count": 56,
   "metadata": {},
   "outputs": [],
   "source": [
    "RF_Prediction = RF_Model.transform(rain_test)"
   ]
  },
  {
   "cell_type": "code",
   "execution_count": 57,
   "metadata": {},
   "outputs": [
    {
     "data": {
      "text/plain": [
       "[Row(MinTemp=-4.8, MaxTemp=15.5, Rainfall=0.0, WindGustSpeed=19.0, WindSpeed9am=2.0, WindSpeed3pm=11.0, Humidity9am=99.0, Humidity3pm=45.0, Pressure9am=1021.5, Pressure3pm=1018.7, WindGustDir_index=0.0, WindDir9am_index=12.0, WindDir3pm_index=10.0, RainToday_index=0.0, RainTomorrow_index=0.0, feature_vector=DenseVector([-4.8, 15.5, 0.0, 19.0, 2.0, 11.0, 99.0, 45.0, 1021.5, 1018.7, 0.0, 12.0, 10.0, 0.0]), rawPrediction=DenseVector([441.5333, 58.4667]), probability=DenseVector([0.8831, 0.1169]), prediction=0.0),\n",
       " Row(MinTemp=-3.3, MaxTemp=12.3, Rainfall=0.8, WindGustSpeed=24.0, WindSpeed9am=0.0, WindSpeed3pm=15.0, Humidity9am=76.0, Humidity3pm=51.0, Pressure9am=1030.9, Pressure3pm=1030.1, WindGustDir_index=6.0, WindDir9am_index=0.0, WindDir3pm_index=3.0, RainToday_index=0.0, RainTomorrow_index=0.0, feature_vector=DenseVector([-3.3, 12.3, 0.8, 24.0, 0.0, 15.0, 76.0, 51.0, 1030.9, 1030.1, 6.0, 0.0, 3.0, 0.0]), rawPrediction=DenseVector([421.3595, 78.6405]), probability=DenseVector([0.8427, 0.1573]), prediction=0.0),\n",
       " Row(MinTemp=-2.8, MaxTemp=13.5, Rainfall=0.0, WindGustSpeed=24.0, WindSpeed9am=6.0, WindSpeed3pm=13.0, Humidity9am=94.0, Humidity3pm=56.0, Pressure9am=1035.9, Pressure3pm=1032.6, WindGustDir_index=9.0, WindDir9am_index=11.0, WindDir3pm_index=1.0, RainToday_index=0.0, RainTomorrow_index=0.0, feature_vector=DenseVector([-2.8, 13.5, 0.0, 24.0, 6.0, 13.0, 94.0, 56.0, 1035.9, 1032.6, 9.0, 11.0, 1.0, 0.0]), rawPrediction=DenseVector([438.8497, 61.1503]), probability=DenseVector([0.8777, 0.1223]), prediction=0.0),\n",
       " Row(MinTemp=-2.8, MaxTemp=13.9, Rainfall=0.0, WindGustSpeed=22.0, WindSpeed9am=7.0, WindSpeed3pm=4.0, Humidity9am=78.0, Humidity3pm=46.0, Pressure9am=1035.9, Pressure3pm=1033.7, WindGustDir_index=4.0, WindDir9am_index=10.0, WindDir3pm_index=12.0, RainToday_index=0.0, RainTomorrow_index=0.0, feature_vector=DenseVector([-2.8, 13.9, 0.0, 22.0, 7.0, 4.0, 78.0, 46.0, 1035.9, 1033.7, 4.0, 10.0, 12.0, 0.0]), rawPrediction=DenseVector([444.0594, 55.9406]), probability=DenseVector([0.8881, 0.1119]), prediction=0.0),\n",
       " Row(MinTemp=-2.7, MaxTemp=21.7, Rainfall=0.0, WindGustSpeed=65.0, WindSpeed9am=0.0, WindSpeed3pm=24.0, Humidity9am=84.0, Humidity3pm=20.0, Pressure9am=1007.9, Pressure3pm=998.8, WindGustDir_index=6.0, WindDir9am_index=0.0, WindDir3pm_index=6.0, RainToday_index=0.0, RainTomorrow_index=0.0, feature_vector=DenseVector([-2.7, 21.7, 0.0, 65.0, 0.0, 24.0, 84.0, 20.0, 1007.9, 998.8, 6.0, 0.0, 6.0, 0.0]), rawPrediction=DenseVector([371.2842, 128.7158]), probability=DenseVector([0.7426, 0.2574]), prediction=0.0)]"
      ]
     },
     "execution_count": 57,
     "metadata": {},
     "output_type": "execute_result"
    }
   ],
   "source": [
    "RF_Prediction.head(5)"
   ]
  },
  {
   "cell_type": "markdown",
   "metadata": {},
   "source": [
    "Interesting predictions, let's evaluate the performance of our model using the `MulticlassClassificationEvaluator()` method."
   ]
  },
  {
   "cell_type": "code",
   "execution_count": 58,
   "metadata": {},
   "outputs": [],
   "source": [
    "RF_Evaluator = MulticlassClassificationEvaluator(labelCol = 'RainTomorrow_index', predictionCol = 'prediction')"
   ]
  },
  {
   "cell_type": "code",
   "execution_count": 59,
   "metadata": {},
   "outputs": [],
   "source": [
    "RF_Accuracy = RF_Evaluator.evaluate(RF_Prediction)"
   ]
  },
  {
   "cell_type": "code",
   "execution_count": 60,
   "metadata": {},
   "outputs": [
    {
     "name": "stdout",
     "output_type": "stream",
     "text": [
      "Random Forest Accuracy is : 80.81752062935776\n",
      "Test Error is : 0.19182479370642247\n"
     ]
    }
   ],
   "source": [
    "print('Random Forest Accuracy is : ' + str(RF_Accuracy * 100))\n",
    "print('Test Error is : ' + str(1 - RF_Accuracy))"
   ]
  },
  {
   "cell_type": "markdown",
   "metadata": {},
   "source": [
    "Hmm. More or less the same perfomance as Decision Tree's. In that case, we would prefer Decision Trees over Random Forest becasue it's **faster** and **more interpretable**."
   ]
  },
  {
   "cell_type": "markdown",
   "metadata": {},
   "source": [
    "# Gradient Boosted Tree\n",
    "\n",
    "We shall now build Gradient Boosted Machines. Using the `GBTClassifier()` and `.fit()` method on our training data."
   ]
  },
  {
   "cell_type": "code",
   "execution_count": 61,
   "metadata": {},
   "outputs": [],
   "source": [
    "GBT_Classifier = GBTClassifier(labelCol = 'RainTomorrow_index', featuresCol = 'feature_vector', maxIter = 20, maxDepth = 5, \n",
    "                               maxBins = 32)"
   ]
  },
  {
   "cell_type": "code",
   "execution_count": 62,
   "metadata": {},
   "outputs": [],
   "source": [
    "GBT_Model = GBT_Classifier.fit(rain_train)"
   ]
  },
  {
   "cell_type": "markdown",
   "metadata": {},
   "source": [
    "Calling the `.transform()` on the model."
   ]
  },
  {
   "cell_type": "code",
   "execution_count": 63,
   "metadata": {},
   "outputs": [],
   "source": [
    "GBT_Prediction = GBT_Model.transform(rain_test)"
   ]
  },
  {
   "cell_type": "code",
   "execution_count": 64,
   "metadata": {},
   "outputs": [
    {
     "data": {
      "text/plain": [
       "[Row(MinTemp=-4.8, MaxTemp=15.5, Rainfall=0.0, WindGustSpeed=19.0, WindSpeed9am=2.0, WindSpeed3pm=11.0, Humidity9am=99.0, Humidity3pm=45.0, Pressure9am=1021.5, Pressure3pm=1018.7, WindGustDir_index=0.0, WindDir9am_index=12.0, WindDir3pm_index=10.0, RainToday_index=0.0, RainTomorrow_index=0.0, feature_vector=DenseVector([-4.8, 15.5, 0.0, 19.0, 2.0, 11.0, 99.0, 45.0, 1021.5, 1018.7, 0.0, 12.0, 10.0, 0.0]), rawPrediction=DenseVector([1.3072, -1.3072]), probability=DenseVector([0.9318, 0.0682]), prediction=0.0),\n",
       " Row(MinTemp=-3.3, MaxTemp=12.3, Rainfall=0.8, WindGustSpeed=24.0, WindSpeed9am=0.0, WindSpeed3pm=15.0, Humidity9am=76.0, Humidity3pm=51.0, Pressure9am=1030.9, Pressure3pm=1030.1, WindGustDir_index=6.0, WindDir9am_index=0.0, WindDir3pm_index=3.0, RainToday_index=0.0, RainTomorrow_index=0.0, feature_vector=DenseVector([-3.3, 12.3, 0.8, 24.0, 0.0, 15.0, 76.0, 51.0, 1030.9, 1030.1, 6.0, 0.0, 3.0, 0.0]), rawPrediction=DenseVector([1.404, -1.404]), probability=DenseVector([0.9431, 0.0569]), prediction=0.0),\n",
       " Row(MinTemp=-2.8, MaxTemp=13.5, Rainfall=0.0, WindGustSpeed=24.0, WindSpeed9am=6.0, WindSpeed3pm=13.0, Humidity9am=94.0, Humidity3pm=56.0, Pressure9am=1035.9, Pressure3pm=1032.6, WindGustDir_index=9.0, WindDir9am_index=11.0, WindDir3pm_index=1.0, RainToday_index=0.0, RainTomorrow_index=0.0, feature_vector=DenseVector([-2.8, 13.5, 0.0, 24.0, 6.0, 13.0, 94.0, 56.0, 1035.9, 1032.6, 9.0, 11.0, 1.0, 0.0]), rawPrediction=DenseVector([1.2654, -1.2654]), probability=DenseVector([0.9263, 0.0737]), prediction=0.0),\n",
       " Row(MinTemp=-2.8, MaxTemp=13.9, Rainfall=0.0, WindGustSpeed=22.0, WindSpeed9am=7.0, WindSpeed3pm=4.0, Humidity9am=78.0, Humidity3pm=46.0, Pressure9am=1035.9, Pressure3pm=1033.7, WindGustDir_index=4.0, WindDir9am_index=10.0, WindDir3pm_index=12.0, RainToday_index=0.0, RainTomorrow_index=0.0, feature_vector=DenseVector([-2.8, 13.9, 0.0, 22.0, 7.0, 4.0, 78.0, 46.0, 1035.9, 1033.7, 4.0, 10.0, 12.0, 0.0]), rawPrediction=DenseVector([1.4253, -1.4253]), probability=DenseVector([0.9454, 0.0546]), prediction=0.0),\n",
       " Row(MinTemp=-2.7, MaxTemp=21.7, Rainfall=0.0, WindGustSpeed=65.0, WindSpeed9am=0.0, WindSpeed3pm=24.0, Humidity9am=84.0, Humidity3pm=20.0, Pressure9am=1007.9, Pressure3pm=998.8, WindGustDir_index=6.0, WindDir9am_index=0.0, WindDir3pm_index=6.0, RainToday_index=0.0, RainTomorrow_index=0.0, feature_vector=DenseVector([-2.7, 21.7, 0.0, 65.0, 0.0, 24.0, 84.0, 20.0, 1007.9, 998.8, 6.0, 0.0, 6.0, 0.0]), rawPrediction=DenseVector([-0.0562, 0.0562]), probability=DenseVector([0.4719, 0.5281]), prediction=1.0)]"
      ]
     },
     "execution_count": 64,
     "metadata": {},
     "output_type": "execute_result"
    }
   ],
   "source": [
    "GBT_Prediction.head(5)"
   ]
  },
  {
   "cell_type": "markdown",
   "metadata": {},
   "source": [
    "Interesting predictions, let's evaluate the performance of our model using the `MulticlassClassificationEvaluator()` method."
   ]
  },
  {
   "cell_type": "code",
   "execution_count": 65,
   "metadata": {},
   "outputs": [],
   "source": [
    "GBT_Evaluator = MulticlassClassificationEvaluator(labelCol = 'RainTomorrow_index', predictionCol = 'prediction')"
   ]
  },
  {
   "cell_type": "code",
   "execution_count": 66,
   "metadata": {},
   "outputs": [],
   "source": [
    "GBT_Accuracy = GBT_Evaluator.evaluate(GBT_Prediction)"
   ]
  },
  {
   "cell_type": "code",
   "execution_count": 67,
   "metadata": {},
   "outputs": [
    {
     "name": "stdout",
     "output_type": "stream",
     "text": [
      "GBT Accuracy is : 82.73984677605645\n",
      "Test Error is : 0.17260153223943553\n"
     ]
    }
   ],
   "source": [
    "print('GBT Accuracy is : ' + str(GBT_Accuracy * 100))\n",
    "print('Test Error is : ' + str(1 - GBT_Accuracy))"
   ]
  },
  {
   "cell_type": "markdown",
   "metadata": {},
   "source": [
    "Better performance than both Decision Trees and Random Forest! But sadly, not by much. Onwards we go to our last algorithm, Logistic Regression."
   ]
  },
  {
   "cell_type": "markdown",
   "metadata": {},
   "source": [
    "# Logistic Regression\n",
    "\n",
    "We shall now build Logistic Regression model. Using the `LogisticRegression()` and `.fit()` method on our training data."
   ]
  },
  {
   "cell_type": "code",
   "execution_count": 68,
   "metadata": {},
   "outputs": [],
   "source": [
    "LogReg_Classifier = LogisticRegression(regParam = 0.3, labelCol = \"RainTomorrow_index\", featuresCol = 'feature_vector', \\\n",
    "                                       maxIter = 20,  elasticNetParam = 0.8)"
   ]
  },
  {
   "cell_type": "code",
   "execution_count": 69,
   "metadata": {},
   "outputs": [],
   "source": [
    "LogReg_Model = LogReg_Classifier.fit(rain_train)"
   ]
  },
  {
   "cell_type": "markdown",
   "metadata": {},
   "source": [
    "Calling the `.transform()` on the model."
   ]
  },
  {
   "cell_type": "code",
   "execution_count": 70,
   "metadata": {},
   "outputs": [
    {
     "data": {
      "text/plain": [
       "[Row(MinTemp=-4.8, MaxTemp=15.5, Rainfall=0.0, WindGustSpeed=19.0, WindSpeed9am=2.0, WindSpeed3pm=11.0, Humidity9am=99.0, Humidity3pm=45.0, Pressure9am=1021.5, Pressure3pm=1018.7, WindGustDir_index=0.0, WindDir9am_index=12.0, WindDir3pm_index=10.0, RainToday_index=0.0, RainTomorrow_index=0.0, feature_vector=DenseVector([-4.8, 15.5, 0.0, 19.0, 2.0, 11.0, 99.0, 45.0, 1021.5, 1018.7, 0.0, 12.0, 10.0, 0.0]), rawPrediction=DenseVector([1.2525, -1.2525]), probability=DenseVector([0.7777, 0.2223]), prediction=0.0),\n",
       " Row(MinTemp=-3.3, MaxTemp=12.3, Rainfall=0.8, WindGustSpeed=24.0, WindSpeed9am=0.0, WindSpeed3pm=15.0, Humidity9am=76.0, Humidity3pm=51.0, Pressure9am=1030.9, Pressure3pm=1030.1, WindGustDir_index=6.0, WindDir9am_index=0.0, WindDir3pm_index=3.0, RainToday_index=0.0, RainTomorrow_index=0.0, feature_vector=DenseVector([-3.3, 12.3, 0.8, 24.0, 0.0, 15.0, 76.0, 51.0, 1030.9, 1030.1, 6.0, 0.0, 3.0, 0.0]), rawPrediction=DenseVector([1.2525, -1.2525]), probability=DenseVector([0.7777, 0.2223]), prediction=0.0),\n",
       " Row(MinTemp=-2.8, MaxTemp=13.5, Rainfall=0.0, WindGustSpeed=24.0, WindSpeed9am=6.0, WindSpeed3pm=13.0, Humidity9am=94.0, Humidity3pm=56.0, Pressure9am=1035.9, Pressure3pm=1032.6, WindGustDir_index=9.0, WindDir9am_index=11.0, WindDir3pm_index=1.0, RainToday_index=0.0, RainTomorrow_index=0.0, feature_vector=DenseVector([-2.8, 13.5, 0.0, 24.0, 6.0, 13.0, 94.0, 56.0, 1035.9, 1032.6, 9.0, 11.0, 1.0, 0.0]), rawPrediction=DenseVector([1.2525, -1.2525]), probability=DenseVector([0.7777, 0.2223]), prediction=0.0),\n",
       " Row(MinTemp=-2.8, MaxTemp=13.9, Rainfall=0.0, WindGustSpeed=22.0, WindSpeed9am=7.0, WindSpeed3pm=4.0, Humidity9am=78.0, Humidity3pm=46.0, Pressure9am=1035.9, Pressure3pm=1033.7, WindGustDir_index=4.0, WindDir9am_index=10.0, WindDir3pm_index=12.0, RainToday_index=0.0, RainTomorrow_index=0.0, feature_vector=DenseVector([-2.8, 13.9, 0.0, 22.0, 7.0, 4.0, 78.0, 46.0, 1035.9, 1033.7, 4.0, 10.0, 12.0, 0.0]), rawPrediction=DenseVector([1.2525, -1.2525]), probability=DenseVector([0.7777, 0.2223]), prediction=0.0),\n",
       " Row(MinTemp=-2.7, MaxTemp=21.7, Rainfall=0.0, WindGustSpeed=65.0, WindSpeed9am=0.0, WindSpeed3pm=24.0, Humidity9am=84.0, Humidity3pm=20.0, Pressure9am=1007.9, Pressure3pm=998.8, WindGustDir_index=6.0, WindDir9am_index=0.0, WindDir3pm_index=6.0, RainToday_index=0.0, RainTomorrow_index=0.0, feature_vector=DenseVector([-2.7, 21.7, 0.0, 65.0, 0.0, 24.0, 84.0, 20.0, 1007.9, 998.8, 6.0, 0.0, 6.0, 0.0]), rawPrediction=DenseVector([1.2525, -1.2525]), probability=DenseVector([0.7777, 0.2223]), prediction=0.0)]"
      ]
     },
     "execution_count": 70,
     "metadata": {},
     "output_type": "execute_result"
    }
   ],
   "source": [
    "LogReg_Prediction = LogReg_Model.transform(rain_test)\n",
    "\n",
    "LogReg_Prediction.head(5)"
   ]
  },
  {
   "cell_type": "markdown",
   "metadata": {},
   "source": [
    "Interesting predictions, let's evaluate the performance of our model using the `MulticlassClassificationEvaluator()` method."
   ]
  },
  {
   "cell_type": "code",
   "execution_count": 71,
   "metadata": {},
   "outputs": [],
   "source": [
    "LogReg_Evaluator = MulticlassClassificationEvaluator(labelCol = \"RainTomorrow_index\", predictionCol = \"prediction\", \\\n",
    "                                                     metricName = \"accuracy\")"
   ]
  },
  {
   "cell_type": "code",
   "execution_count": 72,
   "metadata": {},
   "outputs": [],
   "source": [
    "LogReg_Accuracy = LogReg_Evaluator.evaluate(LogReg_Prediction)"
   ]
  },
  {
   "cell_type": "code",
   "execution_count": 73,
   "metadata": {},
   "outputs": [
    {
     "name": "stdout",
     "output_type": "stream",
     "text": [
      "Logistic Regression Accuracy is : 77.1405266837567\n",
      "Test Error is : 0.22859473316243295\n"
     ]
    }
   ],
   "source": [
    "print('Logistic Regression Accuracy is : ' + str(LogReg_Accuracy * 100))\n",
    "print('Test Error is : ' + str(1 - LogReg_Accuracy))"
   ]
  },
  {
   "cell_type": "markdown",
   "metadata": {},
   "source": [
    "Logistic Regression seems to be doing just okay as compared to our other algorithms. Let's get into more model performace indicators like Confusion Matrix, Recall, Precision, F1 Score etc.\n",
    "\n",
    "Now, let's get a sense of all prediction accuracies by visualizing them. We could perhaps, use a bar chart for it."
   ]
  },
  {
   "cell_type": "code",
   "execution_count": 74,
   "metadata": {},
   "outputs": [
    {
     "data": {
      "text/plain": [
       "<AxesSubplot:>"
      ]
     },
     "execution_count": 74,
     "metadata": {},
     "output_type": "execute_result"
    },
    {
     "data": {
      "image/png": "[encoded data removed]",
      "text/plain": [
       "<Figure size 1080x864 with 1 Axes>"
      ]
     },
     "metadata": {},
     "output_type": "display_data"
    }
   ],
   "source": [
    "sns.set(rc = {'figure.figsize':(15, 12)})\n",
    "\n",
    "model_classifiers = ['Gradient Boosting Trees', 'Decision Trees', 'Random Forest', 'Logistic Regression']\n",
    "\n",
    "model_accuracies = [GBT_Accuracy * 100, DT_Accuracy * 100, RF_Accuracy * 100, LogReg_Accuracy * 100]\n",
    "\n",
    "sns.barplot(y = model_classifiers, x = model_accuracies)"
   ]
  },
  {
   "cell_type": "markdown",
   "metadata": {},
   "source": [
    "# Step 09: Calculate the confusion matrix and find the precision, recall, and F1 score of each classification algorithm. Explain how the accuracy of the predication can be improved? "
   ]
  },
  {
   "cell_type": "markdown",
   "metadata": {},
   "source": [
    "## GBT Model Performance\n",
    "\n",
    "For this task, we must make a **Confusion Matrix**, find the **Precision, Recall and F1-Score** for all the algorithms.\n",
    "\n",
    "We will be making use of built-in functions such as `MulticlassMetrics()`, `confusionMatrix()` for this task. For the other metrics like Precision, Recall and F1-Score, we can calculate them by **manipulating the confusion matrix**.\n",
    "\n",
    "As we will repeat the same for everything, there's no need to repeat the documentation for everything."
   ]
  },
  {
   "cell_type": "code",
   "execution_count": 75,
   "metadata": {},
   "outputs": [
    {
     "name": "stderr",
     "output_type": "stream",
     "text": [
      "C:\\Users\\amank\\Documents\\spark\\spark-3.4.0-bin-hadoop3\\python\\pyspark\\sql\\context.py:157: FutureWarning: Deprecated in 3.0.0. Use SparkSession.builder.getOrCreate() instead.\n",
      "  warnings.warn(\n"
     ]
    }
   ],
   "source": [
    "GBT_Prediction_Labels = GBT_Prediction.select(['prediction', 'RainTomorrow_index'])\n",
    "\n",
    "GBT_KPI = MulticlassMetrics(GBT_Prediction_Labels.rdd.map(list))"
   ]
  },
  {
   "cell_type": "code",
   "execution_count": 76,
   "metadata": {},
   "outputs": [
    {
     "name": "stdout",
     "output_type": "stream",
     "text": [
      "GBT Confusion Matrix\n",
      "[[31374.  1727.]\n",
      " [ 5128.  4681.]]\n"
     ]
    }
   ],
   "source": [
    "GBT_confusion_matrix = GBT_KPI.confusionMatrix().toArray()\n",
    "\n",
    "print('GBT Confusion Matrix')\n",
    "\n",
    "print(GBT_confusion_matrix)"
   ]
  },
  {
   "cell_type": "code",
   "execution_count": 77,
   "metadata": {},
   "outputs": [
    {
     "name": "stdout",
     "output_type": "stream",
     "text": [
      "GBT Precision = 0.8595145471481015\n"
     ]
    }
   ],
   "source": [
    "GBT_precision = (GBT_confusion_matrix[0][0]) / (GBT_confusion_matrix[0][0] + GBT_confusion_matrix[1][0])\n",
    "print('GBT Precision = ' + str(GBT_precision))"
   ]
  },
  {
   "cell_type": "code",
   "execution_count": 78,
   "metadata": {},
   "outputs": [
    {
     "name": "stdout",
     "output_type": "stream",
     "text": [
      "GBT Recall = 0.9478263496571101\n"
     ]
    }
   ],
   "source": [
    "GBT_recall = (GBT_confusion_matrix[0][0]) / (GBT_confusion_matrix[0][0] + GBT_confusion_matrix[0][1])\n",
    "print('GBT Recall = ' + str(GBT_recall))"
   ]
  },
  {
   "cell_type": "code",
   "execution_count": 79,
   "metadata": {},
   "outputs": [
    {
     "name": "stdout",
     "output_type": "stream",
     "text": [
      "GBT F1 Score = 0.901512865824749\n"
     ]
    }
   ],
   "source": [
    "GBT_f1Score = (GBT_precision * GBT_recall) / (GBT_precision + GBT_recall) * 2\n",
    "print('GBT F1 Score = ' + str(GBT_f1Score))"
   ]
  },
  {
   "cell_type": "markdown",
   "metadata": {},
   "source": [
    "## Decision Trees Model Performance"
   ]
  },
  {
   "cell_type": "code",
   "execution_count": 80,
   "metadata": {},
   "outputs": [],
   "source": [
    "DT_Prediction_Labels = DT_Prediction.select(['prediction', 'RainTomorrow_index'])\n",
    "\n",
    "DT_KPI = MulticlassMetrics(DT_Prediction_Labels.rdd.map(list))"
   ]
  },
  {
   "cell_type": "code",
   "execution_count": 81,
   "metadata": {},
   "outputs": [
    {
     "name": "stdout",
     "output_type": "stream",
     "text": [
      "DT Confusion Matrix\n",
      "[[31664.  1437.]\n",
      " [ 5801.  4008.]]\n"
     ]
    }
   ],
   "source": [
    "DT_confusion_matrix = DT_KPI.confusionMatrix().toArray()\n",
    "\n",
    "print('DT Confusion Matrix')\n",
    "\n",
    "print(DT_confusion_matrix)"
   ]
  },
  {
   "cell_type": "code",
   "execution_count": 82,
   "metadata": {},
   "outputs": [
    {
     "name": "stdout",
     "output_type": "stream",
     "text": [
      "DT Precision = 0.8451621513412518\n"
     ]
    }
   ],
   "source": [
    "DT_precision = (DT_confusion_matrix[0][0]) / (DT_confusion_matrix[0][0] + DT_confusion_matrix[1][0])\n",
    "print('DT Precision = ' + str(DT_precision))"
   ]
  },
  {
   "cell_type": "code",
   "execution_count": 83,
   "metadata": {},
   "outputs": [
    {
     "name": "stdout",
     "output_type": "stream",
     "text": [
      "DT Recall = 0.9565874142775143\n"
     ]
    }
   ],
   "source": [
    "DT_recall = (DT_confusion_matrix[0][0]) / (DT_confusion_matrix[0][0] + DT_confusion_matrix[0][1])\n",
    "print('DT Recall = ' + str(DT_recall))"
   ]
  },
  {
   "cell_type": "code",
   "execution_count": 84,
   "metadata": {},
   "outputs": [
    {
     "name": "stdout",
     "output_type": "stream",
     "text": [
      "DT F1 Score = 0.8974293569140945\n"
     ]
    }
   ],
   "source": [
    "DT_f1Score = (DT_precision * DT_recall) / (DT_precision + DT_recall) * 2\n",
    "print('DT F1 Score = ' + str(DT_f1Score))"
   ]
  },
  {
   "cell_type": "markdown",
   "metadata": {},
   "source": [
    "## Random Forest Model Performance"
   ]
  },
  {
   "cell_type": "code",
   "execution_count": 85,
   "metadata": {},
   "outputs": [],
   "source": [
    "RF_Prediction_Labels = RF_Prediction.select(['prediction', 'RainTomorrow_index'])\n",
    "\n",
    "RF_KPI = MulticlassMetrics(RF_Prediction_Labels.rdd.map(list))"
   ]
  },
  {
   "cell_type": "code",
   "execution_count": 86,
   "metadata": {},
   "outputs": [
    {
     "name": "stdout",
     "output_type": "stream",
     "text": [
      "RF Confusion Matrix\n",
      "[[32011.  1090.]\n",
      " [ 6143.  3666.]]\n"
     ]
    }
   ],
   "source": [
    "RF_confusion_matrix = RF_KPI.confusionMatrix().toArray()\n",
    "\n",
    "print('RF Confusion Matrix')\n",
    "\n",
    "print(RF_confusion_matrix)"
   ]
  },
  {
   "cell_type": "code",
   "execution_count": 87,
   "metadata": {},
   "outputs": [
    {
     "name": "stdout",
     "output_type": "stream",
     "text": [
      "RF Precision = 0.8389946008282224\n"
     ]
    }
   ],
   "source": [
    "RF_precision = (RF_confusion_matrix[0][0]) / (RF_confusion_matrix[0][0] + RF_confusion_matrix[1][0])\n",
    "print('RF Precision = ' + str(RF_precision))"
   ]
  },
  {
   "cell_type": "code",
   "execution_count": 88,
   "metadata": {},
   "outputs": [
    {
     "name": "stdout",
     "output_type": "stream",
     "text": [
      "RF Recall = 0.9670704812543428\n"
     ]
    }
   ],
   "source": [
    "RF_recall = (RF_confusion_matrix[0][0]) / (RF_confusion_matrix[0][0] + RF_confusion_matrix[0][1])\n",
    "print('RF Recall = ' + str(RF_recall))"
   ]
  },
  {
   "cell_type": "code",
   "execution_count": 89,
   "metadata": {},
   "outputs": [
    {
     "name": "stdout",
     "output_type": "stream",
     "text": [
      "RF F1 Score = 0.8984913339414777\n"
     ]
    }
   ],
   "source": [
    "RF_f1Score = (RF_precision * RF_recall) / (RF_precision + RF_recall) * 2\n",
    "print('RF F1 Score = ' + str(RF_f1Score))"
   ]
  },
  {
   "cell_type": "markdown",
   "metadata": {},
   "source": [
    "## Logistic Regression Model Performance"
   ]
  },
  {
   "cell_type": "code",
   "execution_count": 90,
   "metadata": {},
   "outputs": [],
   "source": [
    "LogReg_Prediction_Labels = LogReg_Prediction.select(['prediction', 'RainTomorrow_index'])\n",
    "\n",
    "LogReg_KPI = MulticlassMetrics(LogReg_Prediction_Labels.rdd.map(list))"
   ]
  },
  {
   "cell_type": "code",
   "execution_count": 91,
   "metadata": {},
   "outputs": [
    {
     "name": "stdout",
     "output_type": "stream",
     "text": [
      "LogReg Confusion Matrix\n",
      "[[33101.     0.]\n",
      " [ 9809.     0.]]\n"
     ]
    }
   ],
   "source": [
    "LogReg_confusion_matrix = LogReg_KPI.confusionMatrix().toArray()\n",
    "\n",
    "print('LogReg Confusion Matrix')\n",
    "\n",
    "print(LogReg_confusion_matrix)"
   ]
  },
  {
   "cell_type": "code",
   "execution_count": 92,
   "metadata": {},
   "outputs": [
    {
     "name": "stdout",
     "output_type": "stream",
     "text": [
      "LogReg Precision = 0.771405266837567\n"
     ]
    }
   ],
   "source": [
    "LogReg_precision = (LogReg_confusion_matrix[0][0]) / (LogReg_confusion_matrix[0][0] + LogReg_confusion_matrix[1][0])\n",
    "print('LogReg Precision = ' + str(LogReg_precision))"
   ]
  },
  {
   "cell_type": "code",
   "execution_count": 93,
   "metadata": {},
   "outputs": [
    {
     "name": "stdout",
     "output_type": "stream",
     "text": [
      "LogReg Recall = 1.0\n"
     ]
    }
   ],
   "source": [
    "LogReg_recall = (LogReg_confusion_matrix[0][0]) / (LogReg_confusion_matrix[0][0] + LogReg_confusion_matrix[0][1])\n",
    "print('LogReg Recall = ' + str(LogReg_recall))"
   ]
  },
  {
   "cell_type": "code",
   "execution_count": 94,
   "metadata": {},
   "outputs": [
    {
     "name": "stdout",
     "output_type": "stream",
     "text": [
      "LogReg F1 Score = 0.8709528883977319\n"
     ]
    }
   ],
   "source": [
    "LogReg_f1Score = (LogReg_precision * LogReg_recall) / (LogReg_precision + LogReg_recall) * 2\n",
    "print('LogReg F1 Score = ' + str(LogReg_f1Score))"
   ]
  },
  {
   "cell_type": "markdown",
   "metadata": {},
   "source": [
    "## How can we Improve the Accuracy?\n",
    "\n",
    "We know that there isn't a single Machine Learning Algorithm that makes the best prediction on all problems. For example, SVM (Support Vector Machine) might do an okay job at **Regression** problems, but it does amazingly well at **Text Classification** problems. This is known as the **No Free Lunch** theorem. Therefore, we can only do trial and error with different algorithms unti we encounter the best algorithm for the problem.\n",
    "\n",
    "There are two other ways which come to mind when we think about increasing the accuracy of the model :\n",
    "\n",
    "1) **Hyperparameter Tuning** - This refers to finding the best set of parameters for any given problem, by tweeking and changing it and observing accuracy against it. We can automate this by using **grid search**, which basically makes use of a wide range of parameters for tweeking until the best set of parameters is found!\n",
    "\n",
    "2) **Tackling Highly Imbalanced Data** - In this problem of predicting the RainTomorrow label, the initial proportion of Yes:No in the training set is about 1:4 which is highly imbalanced as the **Yes** class label is far less represented than the class **No** label. This can influence the prediction probability in our final model. This can be dealt with methods like **Prior Probability, Weighted Matrix** methods etc. "
   ]
  },
  {
   "cell_type": "markdown",
   "metadata": {},
   "source": [
    "# References\n",
    "\n",
    "StringIndexer - https://stackoverflow.com/questions/36942233/apply-stringindexer-to-several-columns-in-a-pyspark-dataframe\n",
    "\n",
    "VectorAssembler - https://stackoverflow.com/questions/32606294/create-feature-vector-programmatically-in-spark-ml-pyspark\n",
    "\n",
    "Spark ML Guide - https://spark.apache.org/docs/latest/api/python/index.html\n",
    "\n",
    "Seaborn - https://seaborn.pydata.org/"
   ]
  }
 ],
 "metadata": {
  "kernelspec": {
   "display_name": "Python 3",
   "language": "python",
   "name": "python3"
  },
  "language_info": {
   "codemirror_mode": {
    "name": "ipython",
    "version": 3
   },
   "file_extension": ".py",
   "mimetype": "text/x-python",
   "name": "python",
   "nbconvert_exporter": "python",
   "pygments_lexer": "ipython3",
   "version": "3.8.8"
  }
 },
 "nbformat": 4,
 "nbformat_minor": 2
}
